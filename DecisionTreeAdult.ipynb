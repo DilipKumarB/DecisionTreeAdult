{
 "cells": [
  {
   "cell_type": "code",
   "execution_count": 1,
   "metadata": {},
   "outputs": [],
   "source": [
    "import pandas as pd\n",
    "import numpy as np\n",
    "import matplotlib.pyplot as plt\n",
    "import seaborn as sns\n",
    "%matplotlib inline"
   ]
  },
  {
   "cell_type": "code",
   "execution_count": 2,
   "metadata": {},
   "outputs": [
    {
     "name": "stdout",
     "output_type": "stream",
     "text": [
      "C:\\Users\\baska\n"
     ]
    }
   ],
   "source": [
    "import os\n",
    "print(os.getcwd())"
   ]
  },
  {
   "cell_type": "code",
   "execution_count": 3,
   "metadata": {},
   "outputs": [
    {
     "name": "stdout",
     "output_type": "stream",
     "text": [
      "<class 'pandas.core.frame.DataFrame'>\n",
      "RangeIndex: 32561 entries, 0 to 32560\n",
      "Data columns (total 15 columns):\n",
      "Age                    32561 non-null int64\n",
      "workclass              32561 non-null object\n",
      "fnlwgt                 32561 non-null int64\n",
      "education              32561 non-null object\n",
      "education-num          32561 non-null int64\n",
      "marital-status         32561 non-null object\n",
      "occupation             32561 non-null object\n",
      "forces relationship    32561 non-null object\n",
      "race                   32561 non-null object\n",
      "sex                    32561 non-null object\n",
      "capital-gain           32561 non-null int64\n",
      "capital-loss           32561 non-null int64\n",
      "hours-per-week         32561 non-null int64\n",
      "native-country         32561 non-null object\n",
      "income                 32561 non-null object\n",
      "dtypes: int64(6), object(9)\n",
      "memory usage: 3.7+ MB\n"
     ]
    }
   ],
   "source": [
    "df=pd.read_csv('adult.csv')\n",
    "df.info()"
   ]
  },
  {
   "cell_type": "code",
   "execution_count": 4,
   "metadata": {},
   "outputs": [
    {
     "data": {
      "text/html": [
       "<div>\n",
       "<style scoped>\n",
       "    .dataframe tbody tr th:only-of-type {\n",
       "        vertical-align: middle;\n",
       "    }\n",
       "\n",
       "    .dataframe tbody tr th {\n",
       "        vertical-align: top;\n",
       "    }\n",
       "\n",
       "    .dataframe thead th {\n",
       "        text-align: right;\n",
       "    }\n",
       "</style>\n",
       "<table border=\"1\" class=\"dataframe\">\n",
       "  <thead>\n",
       "    <tr style=\"text-align: right;\">\n",
       "      <th></th>\n",
       "      <th>Age</th>\n",
       "      <th>fnlwgt</th>\n",
       "      <th>education-num</th>\n",
       "      <th>capital-gain</th>\n",
       "      <th>capital-loss</th>\n",
       "      <th>hours-per-week</th>\n",
       "    </tr>\n",
       "  </thead>\n",
       "  <tbody>\n",
       "    <tr>\n",
       "      <th>count</th>\n",
       "      <td>32561.000000</td>\n",
       "      <td>3.256100e+04</td>\n",
       "      <td>32561.000000</td>\n",
       "      <td>32561.000000</td>\n",
       "      <td>32561.000000</td>\n",
       "      <td>32561.000000</td>\n",
       "    </tr>\n",
       "    <tr>\n",
       "      <th>mean</th>\n",
       "      <td>38.581647</td>\n",
       "      <td>1.897784e+05</td>\n",
       "      <td>10.080679</td>\n",
       "      <td>1077.648844</td>\n",
       "      <td>87.303830</td>\n",
       "      <td>40.437456</td>\n",
       "    </tr>\n",
       "    <tr>\n",
       "      <th>std</th>\n",
       "      <td>13.640433</td>\n",
       "      <td>1.055500e+05</td>\n",
       "      <td>2.572720</td>\n",
       "      <td>7385.292085</td>\n",
       "      <td>402.960219</td>\n",
       "      <td>12.347429</td>\n",
       "    </tr>\n",
       "    <tr>\n",
       "      <th>min</th>\n",
       "      <td>17.000000</td>\n",
       "      <td>1.228500e+04</td>\n",
       "      <td>1.000000</td>\n",
       "      <td>0.000000</td>\n",
       "      <td>0.000000</td>\n",
       "      <td>1.000000</td>\n",
       "    </tr>\n",
       "    <tr>\n",
       "      <th>25%</th>\n",
       "      <td>28.000000</td>\n",
       "      <td>1.178270e+05</td>\n",
       "      <td>9.000000</td>\n",
       "      <td>0.000000</td>\n",
       "      <td>0.000000</td>\n",
       "      <td>40.000000</td>\n",
       "    </tr>\n",
       "    <tr>\n",
       "      <th>50%</th>\n",
       "      <td>37.000000</td>\n",
       "      <td>1.783560e+05</td>\n",
       "      <td>10.000000</td>\n",
       "      <td>0.000000</td>\n",
       "      <td>0.000000</td>\n",
       "      <td>40.000000</td>\n",
       "    </tr>\n",
       "    <tr>\n",
       "      <th>75%</th>\n",
       "      <td>48.000000</td>\n",
       "      <td>2.370510e+05</td>\n",
       "      <td>12.000000</td>\n",
       "      <td>0.000000</td>\n",
       "      <td>0.000000</td>\n",
       "      <td>45.000000</td>\n",
       "    </tr>\n",
       "    <tr>\n",
       "      <th>max</th>\n",
       "      <td>90.000000</td>\n",
       "      <td>1.484705e+06</td>\n",
       "      <td>16.000000</td>\n",
       "      <td>99999.000000</td>\n",
       "      <td>4356.000000</td>\n",
       "      <td>99.000000</td>\n",
       "    </tr>\n",
       "  </tbody>\n",
       "</table>\n",
       "</div>"
      ],
      "text/plain": [
       "                Age        fnlwgt  education-num  capital-gain  capital-loss  \\\n",
       "count  32561.000000  3.256100e+04   32561.000000  32561.000000  32561.000000   \n",
       "mean      38.581647  1.897784e+05      10.080679   1077.648844     87.303830   \n",
       "std       13.640433  1.055500e+05       2.572720   7385.292085    402.960219   \n",
       "min       17.000000  1.228500e+04       1.000000      0.000000      0.000000   \n",
       "25%       28.000000  1.178270e+05       9.000000      0.000000      0.000000   \n",
       "50%       37.000000  1.783560e+05      10.000000      0.000000      0.000000   \n",
       "75%       48.000000  2.370510e+05      12.000000      0.000000      0.000000   \n",
       "max       90.000000  1.484705e+06      16.000000  99999.000000   4356.000000   \n",
       "\n",
       "       hours-per-week  \n",
       "count    32561.000000  \n",
       "mean        40.437456  \n",
       "std         12.347429  \n",
       "min          1.000000  \n",
       "25%         40.000000  \n",
       "50%         40.000000  \n",
       "75%         45.000000  \n",
       "max         99.000000  "
      ]
     },
     "execution_count": 4,
     "metadata": {},
     "output_type": "execute_result"
    }
   ],
   "source": [
    "df.describe()"
   ]
  },
  {
   "cell_type": "code",
   "execution_count": 5,
   "metadata": {},
   "outputs": [
    {
     "data": {
      "text/html": [
       "<div>\n",
       "<style scoped>\n",
       "    .dataframe tbody tr th:only-of-type {\n",
       "        vertical-align: middle;\n",
       "    }\n",
       "\n",
       "    .dataframe tbody tr th {\n",
       "        vertical-align: top;\n",
       "    }\n",
       "\n",
       "    .dataframe thead th {\n",
       "        text-align: right;\n",
       "    }\n",
       "</style>\n",
       "<table border=\"1\" class=\"dataframe\">\n",
       "  <thead>\n",
       "    <tr style=\"text-align: right;\">\n",
       "      <th></th>\n",
       "      <th>Age</th>\n",
       "      <th>workclass</th>\n",
       "      <th>fnlwgt</th>\n",
       "      <th>education</th>\n",
       "      <th>education-num</th>\n",
       "      <th>marital-status</th>\n",
       "      <th>occupation</th>\n",
       "      <th>forces relationship</th>\n",
       "      <th>race</th>\n",
       "      <th>sex</th>\n",
       "      <th>capital-gain</th>\n",
       "      <th>capital-loss</th>\n",
       "      <th>hours-per-week</th>\n",
       "      <th>native-country</th>\n",
       "      <th>income</th>\n",
       "    </tr>\n",
       "  </thead>\n",
       "  <tbody>\n",
       "    <tr>\n",
       "      <th>0</th>\n",
       "      <td>39</td>\n",
       "      <td>State-gov</td>\n",
       "      <td>77516</td>\n",
       "      <td>Bachelors</td>\n",
       "      <td>13</td>\n",
       "      <td>Never-married</td>\n",
       "      <td>Adm-clerical</td>\n",
       "      <td>Not-in-family</td>\n",
       "      <td>White</td>\n",
       "      <td>Male</td>\n",
       "      <td>2174</td>\n",
       "      <td>0</td>\n",
       "      <td>40</td>\n",
       "      <td>United-States</td>\n",
       "      <td>&lt;=50K</td>\n",
       "    </tr>\n",
       "    <tr>\n",
       "      <th>1</th>\n",
       "      <td>50</td>\n",
       "      <td>Self-emp-not-inc</td>\n",
       "      <td>83311</td>\n",
       "      <td>Bachelors</td>\n",
       "      <td>13</td>\n",
       "      <td>Married-civ-spouse</td>\n",
       "      <td>Exec-managerial</td>\n",
       "      <td>Husband</td>\n",
       "      <td>White</td>\n",
       "      <td>Male</td>\n",
       "      <td>0</td>\n",
       "      <td>0</td>\n",
       "      <td>13</td>\n",
       "      <td>United-States</td>\n",
       "      <td>&lt;=50K</td>\n",
       "    </tr>\n",
       "    <tr>\n",
       "      <th>2</th>\n",
       "      <td>38</td>\n",
       "      <td>Private</td>\n",
       "      <td>215646</td>\n",
       "      <td>HS-grad</td>\n",
       "      <td>9</td>\n",
       "      <td>Divorced</td>\n",
       "      <td>Handlers-cleaners</td>\n",
       "      <td>Not-in-family</td>\n",
       "      <td>White</td>\n",
       "      <td>Male</td>\n",
       "      <td>0</td>\n",
       "      <td>0</td>\n",
       "      <td>40</td>\n",
       "      <td>United-States</td>\n",
       "      <td>&lt;=50K</td>\n",
       "    </tr>\n",
       "    <tr>\n",
       "      <th>3</th>\n",
       "      <td>53</td>\n",
       "      <td>Private</td>\n",
       "      <td>234721</td>\n",
       "      <td>11th</td>\n",
       "      <td>7</td>\n",
       "      <td>Married-civ-spouse</td>\n",
       "      <td>Handlers-cleaners</td>\n",
       "      <td>Husband</td>\n",
       "      <td>Black</td>\n",
       "      <td>Male</td>\n",
       "      <td>0</td>\n",
       "      <td>0</td>\n",
       "      <td>40</td>\n",
       "      <td>United-States</td>\n",
       "      <td>&lt;=50K</td>\n",
       "    </tr>\n",
       "    <tr>\n",
       "      <th>4</th>\n",
       "      <td>28</td>\n",
       "      <td>Private</td>\n",
       "      <td>338409</td>\n",
       "      <td>Bachelors</td>\n",
       "      <td>13</td>\n",
       "      <td>Married-civ-spouse</td>\n",
       "      <td>Prof-specialty</td>\n",
       "      <td>Wife</td>\n",
       "      <td>Black</td>\n",
       "      <td>Female</td>\n",
       "      <td>0</td>\n",
       "      <td>0</td>\n",
       "      <td>40</td>\n",
       "      <td>Cuba</td>\n",
       "      <td>&lt;=50K</td>\n",
       "    </tr>\n",
       "  </tbody>\n",
       "</table>\n",
       "</div>"
      ],
      "text/plain": [
       "   Age          workclass  fnlwgt   education  education-num  \\\n",
       "0   39          State-gov   77516   Bachelors             13   \n",
       "1   50   Self-emp-not-inc   83311   Bachelors             13   \n",
       "2   38            Private  215646     HS-grad              9   \n",
       "3   53            Private  234721        11th              7   \n",
       "4   28            Private  338409   Bachelors             13   \n",
       "\n",
       "        marital-status          occupation forces relationship    race  \\\n",
       "0        Never-married        Adm-clerical       Not-in-family   White   \n",
       "1   Married-civ-spouse     Exec-managerial             Husband   White   \n",
       "2             Divorced   Handlers-cleaners       Not-in-family   White   \n",
       "3   Married-civ-spouse   Handlers-cleaners             Husband   Black   \n",
       "4   Married-civ-spouse      Prof-specialty                Wife   Black   \n",
       "\n",
       "       sex  capital-gain  capital-loss  hours-per-week  native-country  income  \n",
       "0     Male          2174             0              40   United-States   <=50K  \n",
       "1     Male             0             0              13   United-States   <=50K  \n",
       "2     Male             0             0              40   United-States   <=50K  \n",
       "3     Male             0             0              40   United-States   <=50K  \n",
       "4   Female             0             0              40            Cuba   <=50K  "
      ]
     },
     "execution_count": 5,
     "metadata": {},
     "output_type": "execute_result"
    }
   ],
   "source": [
    "df.head()"
   ]
  },
  {
   "cell_type": "code",
   "execution_count": 6,
   "metadata": {},
   "outputs": [
    {
     "data": {
      "text/plain": [
       "False"
      ]
     },
     "execution_count": 6,
     "metadata": {},
     "output_type": "execute_result"
    }
   ],
   "source": [
    "df.isnull().values.any()"
   ]
  },
  {
   "cell_type": "code",
   "execution_count": 7,
   "metadata": {},
   "outputs": [
    {
     "data": {
      "text/plain": [
       "array([' <=50K', ' >50K'], dtype=object)"
      ]
     },
     "execution_count": 7,
     "metadata": {},
     "output_type": "execute_result"
    }
   ],
   "source": [
    "df.income.unique()"
   ]
  },
  {
   "cell_type": "code",
   "execution_count": 8,
   "metadata": {},
   "outputs": [
    {
     "name": "stdout",
     "output_type": "stream",
     "text": [
      "categorical_columns: ['workclass', 'education', 'marital-status', 'occupation', 'forces relationship', 'race', 'sex', 'native-country', 'income']\n",
      "numerical_columns: ['Age', 'fnlwgt', 'education-num', 'capital-gain', 'capital-loss', 'hours-per-week']\n"
     ]
    }
   ],
   "source": [
    "categorical_columns = [c for c in df.columns\n",
    "                      if df[c].dtype.name == 'object']\n",
    "numerical_columns = [c for c in df.columns\n",
    "                    if df[c].dtype.name != 'object']\n",
    "print('categorical_columns:',categorical_columns)\n",
    "print('numerical_columns:',numerical_columns)"
   ]
  },
  {
   "cell_type": "code",
   "execution_count": 9,
   "metadata": {},
   "outputs": [],
   "source": [
    "for c in categorical_columns:\n",
    "    df[c].fillna(df[c].mode(),inplace=True)\n",
    "\n",
    "for c in numerical_columns:\n",
    "    df[c].fillna(df[c].median(),inplace=True)  "
   ]
  },
  {
   "cell_type": "code",
   "execution_count": 10,
   "metadata": {},
   "outputs": [],
   "source": [
    "df[\"income\"]=df[\"income\"].map({\" <=50K\":-1,\" >50K\":1 })"
   ]
  },
  {
   "cell_type": "code",
   "execution_count": 11,
   "metadata": {},
   "outputs": [
    {
     "name": "stdout",
     "output_type": "stream",
     "text": [
      "   Age          workclass  fnlwgt   education  education-num  \\\n",
      "0   39          State-gov   77516   Bachelors             13   \n",
      "1   50   Self-emp-not-inc   83311   Bachelors             13   \n",
      "2   38            Private  215646     HS-grad              9   \n",
      "3   53            Private  234721        11th              7   \n",
      "4   28            Private  338409   Bachelors             13   \n",
      "\n",
      "        marital-status          occupation forces relationship    race  \\\n",
      "0        Never-married        Adm-clerical       Not-in-family   White   \n",
      "1   Married-civ-spouse     Exec-managerial             Husband   White   \n",
      "2             Divorced   Handlers-cleaners       Not-in-family   White   \n",
      "3   Married-civ-spouse   Handlers-cleaners             Husband   Black   \n",
      "4   Married-civ-spouse      Prof-specialty                Wife   Black   \n",
      "\n",
      "       sex  capital-gain  capital-loss  hours-per-week  native-country  income  \n",
      "0     Male          2174             0              40   United-States      -1  \n",
      "1     Male             0             0              13   United-States      -1  \n",
      "2     Male             0             0              40   United-States      -1  \n",
      "3     Male             0             0              40   United-States      -1  \n",
      "4   Female             0             0              40            Cuba      -1  \n"
     ]
    }
   ],
   "source": [
    "print(df.head())"
   ]
  },
  {
   "cell_type": "code",
   "execution_count": 12,
   "metadata": {},
   "outputs": [],
   "source": [
    "df.drop(\"capital-gain\",axis=1,inplace=True)\n",
    "df.drop(\"capital-loss\",axis=1,inplace=True)"
   ]
  },
  {
   "cell_type": "code",
   "execution_count": 13,
   "metadata": {},
   "outputs": [],
   "source": [
    "df.Age=df.Age.astype(float)\n",
    "df.fnlwgt=df.fnlwgt.astype(float)"
   ]
  },
  {
   "cell_type": "code",
   "execution_count": 14,
   "metadata": {},
   "outputs": [],
   "source": [
    "df.rename(columns={'education-num':'educationnum','hours-per-week':'hoursperweek','marital-status':'maritalstatus','native-country':'nativecountry','forces relationship' : 'forcesrelationship'},inplace=True)"
   ]
  },
  {
   "cell_type": "code",
   "execution_count": 15,
   "metadata": {},
   "outputs": [
    {
     "name": "stdout",
     "output_type": "stream",
     "text": [
      "        Age          workclass    fnlwgt      education  educationnum  \\\n",
      "0      39.0          State-gov   77516.0      Bachelors          13.0   \n",
      "1      50.0   Self-emp-not-inc   83311.0      Bachelors          13.0   \n",
      "2      38.0            Private  215646.0        HS-grad           9.0   \n",
      "3      53.0            Private  234721.0           11th           7.0   \n",
      "4      28.0            Private  338409.0      Bachelors          13.0   \n",
      "5      37.0            Private  284582.0        Masters          14.0   \n",
      "6      49.0            Private  160187.0            9th           5.0   \n",
      "7      52.0   Self-emp-not-inc  209642.0        HS-grad           9.0   \n",
      "8      31.0            Private   45781.0        Masters          14.0   \n",
      "9      42.0            Private  159449.0      Bachelors          13.0   \n",
      "10     37.0            Private  280464.0   Some-college          10.0   \n",
      "11     30.0          State-gov  141297.0      Bachelors          13.0   \n",
      "12     23.0            Private  122272.0      Bachelors          13.0   \n",
      "13     32.0            Private  205019.0     Assoc-acdm          12.0   \n",
      "14     40.0            Private  121772.0      Assoc-voc          11.0   \n",
      "15     34.0            Private  245487.0        7th-8th           4.0   \n",
      "16     25.0   Self-emp-not-inc  176756.0        HS-grad           9.0   \n",
      "17     32.0            Private  186824.0        HS-grad           9.0   \n",
      "18     38.0            Private   28887.0           11th           7.0   \n",
      "19     43.0   Self-emp-not-inc  292175.0        Masters          14.0   \n",
      "20     40.0            Private  193524.0      Doctorate          16.0   \n",
      "21     54.0            Private  302146.0        HS-grad           9.0   \n",
      "22     35.0        Federal-gov   76845.0            9th           5.0   \n",
      "23     43.0            Private  117037.0           11th           7.0   \n",
      "24     59.0            Private  109015.0        HS-grad           9.0   \n",
      "25     56.0          Local-gov  216851.0      Bachelors          13.0   \n",
      "26     19.0            Private  168294.0        HS-grad           9.0   \n",
      "27     54.0                  ?  180211.0   Some-college          10.0   \n",
      "28     39.0            Private  367260.0        HS-grad           9.0   \n",
      "29     49.0            Private  193366.0        HS-grad           9.0   \n",
      "...     ...                ...       ...            ...           ...   \n",
      "32531  30.0                  ?   33811.0      Bachelors          13.0   \n",
      "32532  34.0            Private  204461.0      Doctorate          16.0   \n",
      "32533  54.0            Private  337992.0      Bachelors          13.0   \n",
      "32534  37.0            Private  179137.0   Some-college          10.0   \n",
      "32535  22.0            Private  325033.0           12th           8.0   \n",
      "32536  34.0            Private  160216.0      Bachelors          13.0   \n",
      "32537  30.0            Private  345898.0        HS-grad           9.0   \n",
      "32538  38.0            Private  139180.0      Bachelors          13.0   \n",
      "32539  71.0                  ?  287372.0      Doctorate          16.0   \n",
      "32540  45.0          State-gov  252208.0        HS-grad           9.0   \n",
      "32541  41.0                  ?  202822.0        HS-grad           9.0   \n",
      "32542  72.0                  ?  129912.0        HS-grad           9.0   \n",
      "32543  45.0          Local-gov  119199.0     Assoc-acdm          12.0   \n",
      "32544  31.0            Private  199655.0        Masters          14.0   \n",
      "32545  39.0          Local-gov  111499.0     Assoc-acdm          12.0   \n",
      "32546  37.0            Private  198216.0     Assoc-acdm          12.0   \n",
      "32547  43.0            Private  260761.0        HS-grad           9.0   \n",
      "32548  65.0   Self-emp-not-inc   99359.0    Prof-school          15.0   \n",
      "32549  43.0          State-gov  255835.0   Some-college          10.0   \n",
      "32550  43.0   Self-emp-not-inc   27242.0   Some-college          10.0   \n",
      "32551  32.0            Private   34066.0           10th           6.0   \n",
      "32552  43.0            Private   84661.0      Assoc-voc          11.0   \n",
      "32553  32.0            Private  116138.0        Masters          14.0   \n",
      "32554  53.0            Private  321865.0        Masters          14.0   \n",
      "32555  22.0            Private  310152.0   Some-college          10.0   \n",
      "32556  27.0            Private  257302.0     Assoc-acdm          12.0   \n",
      "32557  40.0            Private  154374.0        HS-grad           9.0   \n",
      "32558  58.0            Private  151910.0        HS-grad           9.0   \n",
      "32559  22.0            Private  201490.0        HS-grad           9.0   \n",
      "32560  52.0       Self-emp-inc  287927.0        HS-grad           9.0   \n",
      "\n",
      "                maritalstatus          occupation forcesrelationship  \\\n",
      "0               Never-married        Adm-clerical      Not-in-family   \n",
      "1          Married-civ-spouse     Exec-managerial            Husband   \n",
      "2                    Divorced   Handlers-cleaners      Not-in-family   \n",
      "3          Married-civ-spouse   Handlers-cleaners            Husband   \n",
      "4          Married-civ-spouse      Prof-specialty               Wife   \n",
      "5          Married-civ-spouse     Exec-managerial               Wife   \n",
      "6       Married-spouse-absent       Other-service      Not-in-family   \n",
      "7          Married-civ-spouse     Exec-managerial            Husband   \n",
      "8               Never-married      Prof-specialty      Not-in-family   \n",
      "9          Married-civ-spouse     Exec-managerial            Husband   \n",
      "10         Married-civ-spouse     Exec-managerial            Husband   \n",
      "11         Married-civ-spouse      Prof-specialty            Husband   \n",
      "12              Never-married        Adm-clerical          Own-child   \n",
      "13              Never-married               Sales      Not-in-family   \n",
      "14         Married-civ-spouse        Craft-repair            Husband   \n",
      "15         Married-civ-spouse    Transport-moving            Husband   \n",
      "16              Never-married     Farming-fishing          Own-child   \n",
      "17              Never-married   Machine-op-inspct          Unmarried   \n",
      "18         Married-civ-spouse               Sales            Husband   \n",
      "19                   Divorced     Exec-managerial          Unmarried   \n",
      "20         Married-civ-spouse      Prof-specialty            Husband   \n",
      "21                  Separated       Other-service          Unmarried   \n",
      "22         Married-civ-spouse     Farming-fishing            Husband   \n",
      "23         Married-civ-spouse    Transport-moving            Husband   \n",
      "24                   Divorced        Tech-support          Unmarried   \n",
      "25         Married-civ-spouse        Tech-support            Husband   \n",
      "26              Never-married        Craft-repair          Own-child   \n",
      "27         Married-civ-spouse                   ?            Husband   \n",
      "28                   Divorced     Exec-managerial      Not-in-family   \n",
      "29         Married-civ-spouse        Craft-repair            Husband   \n",
      "...                       ...                 ...                ...   \n",
      "32531           Never-married                   ?      Not-in-family   \n",
      "32532      Married-civ-spouse      Prof-specialty            Husband   \n",
      "32533      Married-civ-spouse     Exec-managerial            Husband   \n",
      "32534                Divorced        Adm-clerical          Unmarried   \n",
      "32535           Never-married     Protective-serv          Own-child   \n",
      "32536           Never-married     Exec-managerial      Not-in-family   \n",
      "32537           Never-married        Craft-repair      Not-in-family   \n",
      "32538                Divorced      Prof-specialty          Unmarried   \n",
      "32539      Married-civ-spouse                   ?            Husband   \n",
      "32540               Separated        Adm-clerical          Own-child   \n",
      "32541               Separated                   ?      Not-in-family   \n",
      "32542      Married-civ-spouse                   ?            Husband   \n",
      "32543                Divorced      Prof-specialty          Unmarried   \n",
      "32544                Divorced       Other-service      Not-in-family   \n",
      "32545      Married-civ-spouse        Adm-clerical               Wife   \n",
      "32546                Divorced        Tech-support      Not-in-family   \n",
      "32547      Married-civ-spouse   Machine-op-inspct            Husband   \n",
      "32548           Never-married      Prof-specialty      Not-in-family   \n",
      "32549                Divorced        Adm-clerical     Other-relative   \n",
      "32550      Married-civ-spouse        Craft-repair            Husband   \n",
      "32551      Married-civ-spouse   Handlers-cleaners            Husband   \n",
      "32552      Married-civ-spouse               Sales            Husband   \n",
      "32553           Never-married        Tech-support      Not-in-family   \n",
      "32554      Married-civ-spouse     Exec-managerial            Husband   \n",
      "32555           Never-married     Protective-serv      Not-in-family   \n",
      "32556      Married-civ-spouse        Tech-support               Wife   \n",
      "32557      Married-civ-spouse   Machine-op-inspct            Husband   \n",
      "32558                 Widowed        Adm-clerical          Unmarried   \n",
      "32559           Never-married        Adm-clerical          Own-child   \n",
      "32560      Married-civ-spouse     Exec-managerial               Wife   \n",
      "\n",
      "                      race      sex  hoursperweek   nativecountry  income  \n",
      "0                    White     Male          40.0   United-States      -1  \n",
      "1                    White     Male          13.0   United-States      -1  \n",
      "2                    White     Male          40.0   United-States      -1  \n",
      "3                    Black     Male          40.0   United-States      -1  \n",
      "4                    Black   Female          40.0            Cuba      -1  \n",
      "5                    White   Female          40.0   United-States      -1  \n",
      "6                    Black   Female          16.0         Jamaica      -1  \n",
      "7                    White     Male          45.0   United-States       1  \n",
      "8                    White   Female          50.0   United-States       1  \n",
      "9                    White     Male          40.0   United-States       1  \n",
      "10                   Black     Male          80.0   United-States       1  \n",
      "11      Asian-Pac-Islander     Male          40.0           India       1  \n",
      "12                   White   Female          30.0   United-States      -1  \n",
      "13                   Black     Male          50.0   United-States      -1  \n",
      "14      Asian-Pac-Islander     Male          40.0               ?       1  \n",
      "15      Amer-Indian-Eskimo     Male          45.0          Mexico      -1  \n",
      "16                   White     Male          35.0   United-States      -1  \n",
      "17                   White     Male          40.0   United-States      -1  \n",
      "18                   White     Male          50.0   United-States      -1  \n",
      "19                   White   Female          45.0   United-States       1  \n",
      "20                   White     Male          60.0   United-States       1  \n",
      "21                   Black   Female          20.0   United-States      -1  \n",
      "22                   Black     Male          40.0   United-States      -1  \n",
      "23                   White     Male          40.0   United-States      -1  \n",
      "24                   White   Female          40.0   United-States      -1  \n",
      "25                   White     Male          40.0   United-States       1  \n",
      "26                   White     Male          40.0   United-States      -1  \n",
      "27      Asian-Pac-Islander     Male          60.0           South       1  \n",
      "28                   White     Male          80.0   United-States      -1  \n",
      "29                   White     Male          40.0   United-States      -1  \n",
      "...                    ...      ...           ...             ...     ...  \n",
      "32531   Asian-Pac-Islander   Female          99.0   United-States      -1  \n",
      "32532                White     Male          60.0   United-States       1  \n",
      "32533   Asian-Pac-Islander     Male          50.0           Japan       1  \n",
      "32534                White   Female          39.0   United-States      -1  \n",
      "32535                Black     Male          35.0   United-States      -1  \n",
      "32536                White   Female          55.0   United-States       1  \n",
      "32537                Black     Male          46.0   United-States      -1  \n",
      "32538                Black   Female          45.0   United-States       1  \n",
      "32539                White     Male          10.0   United-States       1  \n",
      "32540                White   Female          40.0   United-States      -1  \n",
      "32541                Black   Female          32.0   United-States      -1  \n",
      "32542                White     Male          25.0   United-States      -1  \n",
      "32543                White   Female          48.0   United-States      -1  \n",
      "32544                Other   Female          30.0   United-States      -1  \n",
      "32545                White   Female          20.0   United-States       1  \n",
      "32546                White   Female          40.0   United-States      -1  \n",
      "32547                White     Male          40.0          Mexico      -1  \n",
      "32548                White     Male          60.0   United-States      -1  \n",
      "32549                White   Female          40.0   United-States      -1  \n",
      "32550                White     Male          50.0   United-States      -1  \n",
      "32551   Amer-Indian-Eskimo     Male          40.0   United-States      -1  \n",
      "32552                White     Male          45.0   United-States      -1  \n",
      "32553   Asian-Pac-Islander     Male          11.0          Taiwan      -1  \n",
      "32554                White     Male          40.0   United-States       1  \n",
      "32555                White     Male          40.0   United-States      -1  \n",
      "32556                White   Female          38.0   United-States      -1  \n",
      "32557                White     Male          40.0   United-States       1  \n",
      "32558                White   Female          40.0   United-States      -1  \n",
      "32559                White     Male          20.0   United-States      -1  \n",
      "32560                White   Female          40.0   United-States       1  \n",
      "\n",
      "[32561 rows x 13 columns]\n"
     ]
    }
   ],
   "source": [
    "df.educationnum=df.educationnum.astype(float)\n",
    "df.hoursperweek=df.hoursperweek.astype(float)\n",
    "print(df)"
   ]
  },
  {
   "cell_type": "code",
   "execution_count": 16,
   "metadata": {},
   "outputs": [
    {
     "name": "stdout",
     "output_type": "stream",
     "text": [
      "    Age          workclass    fnlwgt   education  educationnum  \\\n",
      "0  39.0          State-gov   77516.0   Bachelors          13.0   \n",
      "1  50.0   Self-emp-not-inc   83311.0   Bachelors          13.0   \n",
      "2  38.0            Private  215646.0     HS-grad           9.0   \n",
      "3  53.0            Private  234721.0        11th           7.0   \n",
      "4  28.0            Private  338409.0   Bachelors          13.0   \n",
      "\n",
      "         maritalstatus          occupation forcesrelationship    race  \\\n",
      "0        Never-married        Adm-clerical      Not-in-family   White   \n",
      "1   Married-civ-spouse     Exec-managerial            Husband   White   \n",
      "2             Divorced   Handlers-cleaners      Not-in-family   White   \n",
      "3   Married-civ-spouse   Handlers-cleaners            Husband   Black   \n",
      "4   Married-civ-spouse      Prof-specialty               Wife   Black   \n",
      "\n",
      "       sex  hoursperweek   nativecountry  income  \n",
      "0     Male          40.0   United-States      -1  \n",
      "1     Male          13.0   United-States      -1  \n",
      "2     Male          40.0   United-States      -1  \n",
      "3     Male          40.0   United-States      -1  \n",
      "4   Female          40.0            Cuba      -1  \n"
     ]
    }
   ],
   "source": [
    "print(df.head())"
   ]
  },
  {
   "cell_type": "code",
   "execution_count": 17,
   "metadata": {},
   "outputs": [
    {
     "data": {
      "text/html": [
       "<div>\n",
       "<style scoped>\n",
       "    .dataframe tbody tr th:only-of-type {\n",
       "        vertical-align: middle;\n",
       "    }\n",
       "\n",
       "    .dataframe tbody tr th {\n",
       "        vertical-align: top;\n",
       "    }\n",
       "\n",
       "    .dataframe thead th {\n",
       "        text-align: right;\n",
       "    }\n",
       "</style>\n",
       "<table border=\"1\" class=\"dataframe\">\n",
       "  <thead>\n",
       "    <tr style=\"text-align: right;\">\n",
       "      <th></th>\n",
       "      <th>Age</th>\n",
       "      <th>fnlwgt</th>\n",
       "      <th>educationnum</th>\n",
       "      <th>hoursperweek</th>\n",
       "      <th>income</th>\n",
       "      <th>race_ Amer-Indian-Eskimo</th>\n",
       "      <th>race_ Asian-Pac-Islander</th>\n",
       "      <th>race_ Black</th>\n",
       "      <th>race_ Other</th>\n",
       "      <th>race_ White</th>\n",
       "      <th>...</th>\n",
       "      <th>occupation_ Protective-serv</th>\n",
       "      <th>occupation_ Sales</th>\n",
       "      <th>occupation_ Tech-support</th>\n",
       "      <th>occupation_ Transport-moving</th>\n",
       "      <th>forcesrelationship_ Husband</th>\n",
       "      <th>forcesrelationship_ Not-in-family</th>\n",
       "      <th>forcesrelationship_ Other-relative</th>\n",
       "      <th>forcesrelationship_ Own-child</th>\n",
       "      <th>forcesrelationship_ Unmarried</th>\n",
       "      <th>forcesrelationship_ Wife</th>\n",
       "    </tr>\n",
       "  </thead>\n",
       "  <tbody>\n",
       "    <tr>\n",
       "      <th>0</th>\n",
       "      <td>39.0</td>\n",
       "      <td>77516.0</td>\n",
       "      <td>13.0</td>\n",
       "      <td>40.0</td>\n",
       "      <td>-1</td>\n",
       "      <td>0</td>\n",
       "      <td>0</td>\n",
       "      <td>0</td>\n",
       "      <td>0</td>\n",
       "      <td>1</td>\n",
       "      <td>...</td>\n",
       "      <td>0</td>\n",
       "      <td>0</td>\n",
       "      <td>0</td>\n",
       "      <td>0</td>\n",
       "      <td>0</td>\n",
       "      <td>1</td>\n",
       "      <td>0</td>\n",
       "      <td>0</td>\n",
       "      <td>0</td>\n",
       "      <td>0</td>\n",
       "    </tr>\n",
       "    <tr>\n",
       "      <th>1</th>\n",
       "      <td>50.0</td>\n",
       "      <td>83311.0</td>\n",
       "      <td>13.0</td>\n",
       "      <td>13.0</td>\n",
       "      <td>-1</td>\n",
       "      <td>0</td>\n",
       "      <td>0</td>\n",
       "      <td>0</td>\n",
       "      <td>0</td>\n",
       "      <td>1</td>\n",
       "      <td>...</td>\n",
       "      <td>0</td>\n",
       "      <td>0</td>\n",
       "      <td>0</td>\n",
       "      <td>0</td>\n",
       "      <td>1</td>\n",
       "      <td>0</td>\n",
       "      <td>0</td>\n",
       "      <td>0</td>\n",
       "      <td>0</td>\n",
       "      <td>0</td>\n",
       "    </tr>\n",
       "    <tr>\n",
       "      <th>2</th>\n",
       "      <td>38.0</td>\n",
       "      <td>215646.0</td>\n",
       "      <td>9.0</td>\n",
       "      <td>40.0</td>\n",
       "      <td>-1</td>\n",
       "      <td>0</td>\n",
       "      <td>0</td>\n",
       "      <td>0</td>\n",
       "      <td>0</td>\n",
       "      <td>1</td>\n",
       "      <td>...</td>\n",
       "      <td>0</td>\n",
       "      <td>0</td>\n",
       "      <td>0</td>\n",
       "      <td>0</td>\n",
       "      <td>0</td>\n",
       "      <td>1</td>\n",
       "      <td>0</td>\n",
       "      <td>0</td>\n",
       "      <td>0</td>\n",
       "      <td>0</td>\n",
       "    </tr>\n",
       "    <tr>\n",
       "      <th>3</th>\n",
       "      <td>53.0</td>\n",
       "      <td>234721.0</td>\n",
       "      <td>7.0</td>\n",
       "      <td>40.0</td>\n",
       "      <td>-1</td>\n",
       "      <td>0</td>\n",
       "      <td>0</td>\n",
       "      <td>1</td>\n",
       "      <td>0</td>\n",
       "      <td>0</td>\n",
       "      <td>...</td>\n",
       "      <td>0</td>\n",
       "      <td>0</td>\n",
       "      <td>0</td>\n",
       "      <td>0</td>\n",
       "      <td>1</td>\n",
       "      <td>0</td>\n",
       "      <td>0</td>\n",
       "      <td>0</td>\n",
       "      <td>0</td>\n",
       "      <td>0</td>\n",
       "    </tr>\n",
       "    <tr>\n",
       "      <th>4</th>\n",
       "      <td>28.0</td>\n",
       "      <td>338409.0</td>\n",
       "      <td>13.0</td>\n",
       "      <td>40.0</td>\n",
       "      <td>-1</td>\n",
       "      <td>0</td>\n",
       "      <td>0</td>\n",
       "      <td>1</td>\n",
       "      <td>0</td>\n",
       "      <td>0</td>\n",
       "      <td>...</td>\n",
       "      <td>0</td>\n",
       "      <td>0</td>\n",
       "      <td>0</td>\n",
       "      <td>0</td>\n",
       "      <td>0</td>\n",
       "      <td>0</td>\n",
       "      <td>0</td>\n",
       "      <td>0</td>\n",
       "      <td>0</td>\n",
       "      <td>1</td>\n",
       "    </tr>\n",
       "  </tbody>\n",
       "</table>\n",
       "<p>5 rows × 107 columns</p>\n",
       "</div>"
      ],
      "text/plain": [
       "    Age    fnlwgt  educationnum  hoursperweek  income  \\\n",
       "0  39.0   77516.0          13.0          40.0      -1   \n",
       "1  50.0   83311.0          13.0          13.0      -1   \n",
       "2  38.0  215646.0           9.0          40.0      -1   \n",
       "3  53.0  234721.0           7.0          40.0      -1   \n",
       "4  28.0  338409.0          13.0          40.0      -1   \n",
       "\n",
       "   race_ Amer-Indian-Eskimo  race_ Asian-Pac-Islander  race_ Black  \\\n",
       "0                         0                         0            0   \n",
       "1                         0                         0            0   \n",
       "2                         0                         0            0   \n",
       "3                         0                         0            1   \n",
       "4                         0                         0            1   \n",
       "\n",
       "   race_ Other  race_ White            ...             \\\n",
       "0            0            1            ...              \n",
       "1            0            1            ...              \n",
       "2            0            1            ...              \n",
       "3            0            0            ...              \n",
       "4            0            0            ...              \n",
       "\n",
       "   occupation_ Protective-serv  occupation_ Sales  occupation_ Tech-support  \\\n",
       "0                            0                  0                         0   \n",
       "1                            0                  0                         0   \n",
       "2                            0                  0                         0   \n",
       "3                            0                  0                         0   \n",
       "4                            0                  0                         0   \n",
       "\n",
       "   occupation_ Transport-moving  forcesrelationship_ Husband  \\\n",
       "0                             0                            0   \n",
       "1                             0                            1   \n",
       "2                             0                            0   \n",
       "3                             0                            1   \n",
       "4                             0                            0   \n",
       "\n",
       "   forcesrelationship_ Not-in-family  forcesrelationship_ Other-relative  \\\n",
       "0                                  1                                   0   \n",
       "1                                  0                                   0   \n",
       "2                                  1                                   0   \n",
       "3                                  0                                   0   \n",
       "4                                  0                                   0   \n",
       "\n",
       "   forcesrelationship_ Own-child  forcesrelationship_ Unmarried  \\\n",
       "0                              0                              0   \n",
       "1                              0                              0   \n",
       "2                              0                              0   \n",
       "3                              0                              0   \n",
       "4                              0                              0   \n",
       "\n",
       "   forcesrelationship_ Wife  \n",
       "0                         0  \n",
       "1                         0  \n",
       "2                         0  \n",
       "3                         0  \n",
       "4                         1  \n",
       "\n",
       "[5 rows x 107 columns]"
      ]
     },
     "execution_count": 17,
     "metadata": {},
     "output_type": "execute_result"
    }
   ],
   "source": [
    "df=pd.get_dummies(df,columns=[\"race\",\"sex\",\"nativecountry\",\"workclass\",\"education\",\"maritalstatus\",\"occupation\",\"forcesrelationship\"])\n",
    "df.head()"
   ]
  },
  {
   "cell_type": "code",
   "execution_count": 18,
   "metadata": {},
   "outputs": [],
   "source": [
    "y=df[\"income\"].values"
   ]
  },
  {
   "cell_type": "code",
   "execution_count": 19,
   "metadata": {},
   "outputs": [],
   "source": [
    "df.drop(\"income\",axis=1,inplace=True)"
   ]
  },
  {
   "cell_type": "code",
   "execution_count": 20,
   "metadata": {},
   "outputs": [],
   "source": [
    "from sklearn.model_selection import train_test_split\n",
    "X_train,X_test,y_train,y_test = train_test_split(df,y,test_size=0.25)"
   ]
  },
  {
   "cell_type": "code",
   "execution_count": 21,
   "metadata": {},
   "outputs": [],
   "source": [
    "from sklearn.tree import DecisionTreeClassifier\n",
    "dtree=DecisionTreeClassifier(criterion='gini',max_depth=None)\n",
    "dtree.fit(X_train,y_train)\n",
    "predictions=dtree.predict(X_test)"
   ]
  },
  {
   "cell_type": "code",
   "execution_count": 22,
   "metadata": {},
   "outputs": [
    {
     "name": "stdout",
     "output_type": "stream",
     "text": [
      "             precision    recall  f1-score   support\n",
      "\n",
      "         -1       0.85      0.86      0.85      6137\n",
      "          1       0.55      0.54      0.55      2004\n",
      "\n",
      "avg / total       0.78      0.78      0.78      8141\n",
      "\n"
     ]
    }
   ],
   "source": [
    "from sklearn.metrics import classification_report,confusion_matrix\n",
    "print(classification_report(y_test,predictions))\n",
    "cm=confusion_matrix(y_test,predictions)"
   ]
  },
  {
   "cell_type": "code",
   "execution_count": 23,
   "metadata": {},
   "outputs": [
    {
     "name": "stdout",
     "output_type": "stream",
     "text": [
      "[[5256  881]\n",
      " [ 923 1081]]\n"
     ]
    }
   ],
   "source": [
    "print(cm)"
   ]
  },
  {
   "cell_type": "code",
   "execution_count": 24,
   "metadata": {},
   "outputs": [
    {
     "name": "stdout",
     "output_type": "stream",
     "text": [
      "Accuracy of prediction: 0.778\n"
     ]
    }
   ],
   "source": [
    "print(\"Accuracy of prediction:\",round((cm[0,0]+cm[1,1])/cm.sum(),3))"
   ]
  },
  {
   "cell_type": "code",
   "execution_count": 26,
   "metadata": {},
   "outputs": [
    {
     "data": {
      "text/plain": [
       "RandomForestClassifier(bootstrap=True, class_weight=None, criterion='gini',\n",
       "            max_depth=None, max_features='auto', max_leaf_nodes=None,\n",
       "            min_impurity_decrease=0.0, min_impurity_split=None,\n",
       "            min_samples_leaf=1, min_samples_split=2,\n",
       "            min_weight_fraction_leaf=0.0, n_estimators=600, n_jobs=1,\n",
       "            oob_score=False, random_state=None, verbose=0,\n",
       "            warm_start=False)"
      ]
     },
     "execution_count": 26,
     "metadata": {},
     "output_type": "execute_result"
    }
   ],
   "source": [
    "from sklearn.ensemble import RandomForestClassifier\n",
    "rfc = RandomForestClassifier(n_estimators=600)\n",
    "rfc.fit(X_train,y_train)"
   ]
  },
  {
   "cell_type": "code",
   "execution_count": 29,
   "metadata": {},
   "outputs": [],
   "source": [
    "rfc_pred = rfc.predict(X_test)"
   ]
  },
  {
   "cell_type": "raw",
   "metadata": {},
   "source": []
  },
  {
   "cell_type": "code",
   "execution_count": 30,
   "metadata": {},
   "outputs": [],
   "source": [
    "cr = classification_report(y_test,predictions)"
   ]
  },
  {
   "cell_type": "code",
   "execution_count": 31,
   "metadata": {},
   "outputs": [
    {
     "name": "stdout",
     "output_type": "stream",
     "text": [
      "             precision    recall  f1-score   support\n",
      "\n",
      "         -1       0.85      0.86      0.85      6137\n",
      "          1       0.55      0.54      0.55      2004\n",
      "\n",
      "avg / total       0.78      0.78      0.78      8141\n",
      "\n"
     ]
    }
   ],
   "source": [
    "print(cr)"
   ]
  },
  {
   "cell_type": "code",
   "execution_count": 32,
   "metadata": {},
   "outputs": [
    {
     "name": "stdout",
     "output_type": "stream",
     "text": [
      "[[5581  556]\n",
      " [ 868 1136]]\n"
     ]
    }
   ],
   "source": [
    "cm_rfc=confusion_matrix(y_test,rfc_pred)\n",
    "print(cm_rfc)"
   ]
  },
  {
   "cell_type": "code",
   "execution_count": 33,
   "metadata": {},
   "outputs": [
    {
     "name": "stdout",
     "output_type": "stream",
     "text": [
      "Accuracy of prediction: 0.825\n"
     ]
    }
   ],
   "source": [
    "print(\"Accuracy of prediction:\",round((cm_rfc[0,0]+cm_rfc[1,1])/cm_rfc.sum(),3))"
   ]
  },
  {
   "cell_type": "code",
   "execution_count": null,
   "metadata": {},
   "outputs": [],
   "source": []
  }
 ],
 "metadata": {
  "kernelspec": {
   "display_name": "Python 3",
   "language": "python",
   "name": "python3"
  },
  "language_info": {
   "codemirror_mode": {
    "name": "ipython",
    "version": 3
   },
   "file_extension": ".py",
   "mimetype": "text/x-python",
   "name": "python",
   "nbconvert_exporter": "python",
   "pygments_lexer": "ipython3",
   "version": "3.6.4"
  }
 },
 "nbformat": 4,
 "nbformat_minor": 2
}
